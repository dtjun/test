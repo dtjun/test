{
 "cells": [
  {
   "cell_type": "markdown",
   "metadata": {},
   "source": [
    "### 常用名词\n",
    "\n",
    "• host: the CPU\n",
    "\n",
    "• device: the GPU\n",
    "\n",
    "• host memory: the system main memory\n",
    "\n",
    "• device memory: onboard memory on a GPU card\n",
    "\n",
    "• kernels: 被主机执行，在设备中计算\n",
    "\n",
    "• device function: 设备函数，只能被kernel函数调用或被其他设备函数调用\n",
    "\n",
    "• blockspergrid：线程块数\n",
    "\n",
    "• threadsperblock：线程数，每个线程块的线程有共享内存，基本互相不会影响速度，所以要设置的尽可能大，只要不会超内存就行，一般设为128、256、512、1024等\n",
    "    ** 这两个参数都可以设置为单个整数或维度为1、2、3的tupple"
   ]
  },
  {
   "cell_type": "markdown",
   "metadata": {},
   "source": [
    "### 计算当前线程的位置：\n",
    "    cuda.threadIdx.x + cuda.blockIdx.x * cuda.blockDim.x\n",
    "    当前线程数+线程块数*线程块的维度"
   ]
  },
  {
   "cell_type": "markdown",
   "metadata": {},
   "source": [
    "### 直接返回绝对位置：\n",
    "    numba.cuda.grid(ndim)： 返回当前位置在所有线程块的绝对位置，ndim为xyz的个数\n",
    "    numba.cuda.gridsize(ndim)：返回其维度"
   ]
  },
  {
   "cell_type": "markdown",
   "metadata": {},
   "source": [
    "### 内存控制：\n",
    "    numba.cuda.device_array(shape, dtype=np.float_, strides=None, order='C', stream=0)：声明一个空向量\n",
    "    numba.cuda.device_array_like(ary, stream=0)：同上\n",
    "    numba.cuda.to_device(obj, stream=0, copy=True, to=None)：返回一个copy到设备的变量\n",
    "    numba.copy_to_host()：返回一个copy到主机的变量\n",
    "    numba.cuda.as_cuda_array(obj, sync=True):不复制数据，创造一个DeviceNDArray对象\n",
    "    numba.cuda.is_cuda_array(obj)：检测该对象是否被定义为__cuda_array_interface__"
   ]
  },
  {
   "cell_type": "markdown",
   "metadata": {},
   "source": [
    "### 设备向量\n",
    "    类：class numba.cuda.cudadrv.devicearray.DeviceNDArray(shape, strides, dtype, stream=0, gpu_data=None)\n",
    "    方法：copy_to_host(ary=None, stream=0)\n",
    "        is_c_contiguous()：判断向量是否行存储在内存中的地址是连续的\n",
    "        is_f_contiguous()：列\n",
    "        ravel(order='C', stream=0)：展平处理\n",
    "        reshape(*newshape, **kws)"
   ]
  },
  {
   "cell_type": "code",
   "execution_count": null,
   "metadata": {},
   "outputs": [],
   "source": []
  }
 ],
 "metadata": {
  "kernelspec": {
   "display_name": "point",
   "language": "python",
   "name": "point"
  },
  "language_info": {
   "codemirror_mode": {
    "name": "ipython",
    "version": 3
   },
   "file_extension": ".py",
   "mimetype": "text/x-python",
   "name": "python",
   "nbconvert_exporter": "python",
   "pygments_lexer": "ipython3",
   "version": "3.6.13"
  }
 },
 "nbformat": 4,
 "nbformat_minor": 4
}
